{
 "cells": [
  {
   "cell_type": "markdown",
   "id": "56622439-ada1-4281-b2de-fc24812b9603",
   "metadata": {
    "collapsed": false,
    "name": "Introduction",
    "resultHeight": 271
   },
   "source": [
    "## Reflection Pattern for LLM\n",
    "This notebook demonstrates the Reflection pattern for LLMs as defined by Andrew Ng of DeepLearning.ai.  The goal is to show how to prompt an LLM, have another prompt \"reflect\" on the answer, and incorporate the revisions from the reflection.\n",
    "\n",
    "This examples demostrates how to generate python code for a Merge Sort (Classic Sorting Algo)."
   ]
  },
  {
   "cell_type": "markdown",
   "id": "6741c606-0f1f-44ed-925e-c35c29a159ca",
   "metadata": {
    "collapsed": false,
    "name": "init_packages",
    "resultHeight": 140
   },
   "source": [
    "Initialize the packages needed for this notebook. Including:\n",
    "* streamlit functions for display\n",
    "* pandas\n",
    "* cortext"
   ]
  },
  {
   "cell_type": "code",
   "execution_count": null,
   "id": "3775908f-ca36-4846-8f38-5adca39217f2",
   "metadata": {
    "codeCollapsed": false,
    "collapsed": false,
    "language": "python",
    "name": "import_packages",
    "resultHeight": 0
   },
   "outputs": [],
   "source": [
    "# Import python packages\n",
    "import streamlit as st\n",
    "import pandas as pd\n",
    "from IPython.display import display_markdown\n",
    "\n",
    "from snowflake.cortex import Complete\n",
    "import snowflake.snowpark.functions as F\n",
    "import snowflake.snowpark.types as T\n",
    "\n",
    "# We can also use Snowpark for our analyses!\n",
    "from snowflake.snowpark.context import get_active_session\n",
    "session = get_active_session()\n"
   ]
  },
  {
   "cell_type": "code",
   "execution_count": null,
   "id": "d71f3412-3b66-4b3a-a5b3-6b0e640d5aa0",
   "metadata": {
    "collapsed": false,
    "language": "python",
    "name": "build_prompt_structure",
    "resultHeight": 0
   },
   "outputs": [],
   "source": [
    "def build_prompt_structure (prompt: str, role: str, tag: str = \"\") -> dict:\n",
    "    \"\"\"\n",
    "    Builds a structured prompt that includes the role and content.\n",
    "\n",
    "    Args:\n",
    "        prompt (str): The actual content of the prompt.\n",
    "        role (str): The role of the speaker (e.g., user, assistant).\n",
    "\n",
    "    Returns:\n",
    "        dict: A dictionary representing the structured prompt.\n",
    "    \"\"\"\n",
    "    if tag:\n",
    "        prompt = f\"<{tag}>{prompt}</{tag}>\"\n",
    "    return {\"role\": role, \"content\": prompt}"
   ]
  },
  {
   "cell_type": "code",
   "execution_count": null,
   "id": "72baaf46-691b-4860-a008-570572c77a91",
   "metadata": {
    "codeCollapsed": true,
    "collapsed": true,
    "language": "python",
    "name": "build_prompt_structure_test",
    "resultHeight": 245
   },
   "outputs": [],
   "source": [
    "build_prompt_structure(prompt = \"write  merge sort algorithm in python\", role = \"user\")"
   ]
  },
  {
   "cell_type": "code",
   "execution_count": null,
   "id": "a50b3317-b13a-42a9-a322-40aadeebc09b",
   "metadata": {
    "collapsed": false,
    "language": "python",
    "name": "cell1",
    "resultHeight": 0
   },
   "outputs": [],
   "source": [
    "query = st.text_area(\"Enter your prompt:\",\"Generate a Python implementation of the Merge Sort algorithm\", \n",
    "                     height=150)\n"
   ]
  },
  {
   "cell_type": "code",
   "execution_count": null,
   "id": "dd059c7d-ad12-4804-b444-9808405767f8",
   "metadata": {
    "codeCollapsed": true,
    "collapsed": false,
    "language": "python",
    "name": "review_prompt",
    "resultHeight": 0
   },
   "outputs": [],
   "source": [
    "print (query)"
   ]
  },
  {
   "cell_type": "markdown",
   "id": "b6c7fb75-4fe8-48d0-a1a8-1eb879fdebbe",
   "metadata": {
    "collapsed": false,
    "name": "explain_prompts",
    "resultHeight": 67
   },
   "source": [
    "Build system prompt that generates code.\n",
    "Also create an array to store the history of the code generatation prompts."
   ]
  },
  {
   "cell_type": "code",
   "execution_count": null,
   "id": "f6ca5412-6bed-44b7-a89a-d29ab490d3eb",
   "metadata": {
    "codeCollapsed": false,
    "collapsed": false,
    "language": "python",
    "name": "prompts",
    "resultHeight": 0
   },
   "outputs": [],
   "source": [
    "generation_chat_history = [\n",
    "    {\n",
    "        \"role\": \"system\",\n",
    "        \"content\": \"You are a Python programmer tasked with generating high quality Python code.\"\n",
    "        \"Your task is to Generate the best content possible for the users request. If the user provides critique,\" \n",
    "        \"respond with a revised version of your previous attempt.\"\n",
    "    }\n",
    "]\n",
    "generation_chat_history.append(\n",
    "    {\n",
    "        \"role\": \"user\",\n",
    "        \"content\": query\n",
    "    }\n",
    ")\n",
    "\n",
    "st.markdown (generation_chat_history)"
   ]
  },
  {
   "cell_type": "markdown",
   "id": "20ff4e05-54c0-4f7c-86e7-55ed7a09bba0",
   "metadata": {
    "collapsed": false,
    "name": "gnerate_code",
    "resultHeight": 120
   },
   "source": [
    "### Generate the code\n",
    "* Use llama to \"complete\" the prompt.\n",
    "* capture the output in the \"mergesort_code\" variable"
   ]
  },
  {
   "cell_type": "code",
   "execution_count": null,
   "id": "5a15c2e0-ce1f-4062-9201-98934ec3a129",
   "metadata": {
    "codeCollapsed": false,
    "collapsed": false,
    "language": "python",
    "name": "generate_mergesort_code",
    "resultHeight": 0
   },
   "outputs": [],
   "source": [
    "mergesort_code = Complete ('llama3.1-405b', generation_chat_history)"
   ]
  },
  {
   "cell_type": "markdown",
   "id": "2743d84d-784e-4de0-8bdc-2eecc6d4af35",
   "metadata": {
    "collapsed": false,
    "name": "show_fromatted_code",
    "resultHeight": 67
   },
   "source": [
    "Use the streamlit function \"markdown\" to show the formatted code."
   ]
  },
  {
   "cell_type": "code",
   "execution_count": null,
   "id": "a330ba0f-120f-4c47-ae69-e732d4db5c3b",
   "metadata": {
    "codeCollapsed": false,
    "collapsed": false,
    "language": "python",
    "name": "cell4",
    "resultHeight": 0
   },
   "outputs": [],
   "source": [
    "st.markdown(mergesort_code)"
   ]
  },
  {
   "cell_type": "code",
   "execution_count": null,
   "id": "1ad0566f-f38e-4be6-9070-9634c65d8970",
   "metadata": {
    "collapsed": false,
    "language": "python",
    "name": "update_generation_chat_history",
    "resultHeight": 0
   },
   "outputs": [],
   "source": [
    "generation_chat_history.append(\n",
    "    {\n",
    "        \"role\": \"assistant\",\n",
    "        \"content\": mergesort_code\n",
    "    }\n",
    ")"
   ]
  },
  {
   "cell_type": "code",
   "execution_count": null,
   "id": "1c722f14-ccd8-430c-8e68-e82788a29f80",
   "metadata": {
    "codeCollapsed": true,
    "collapsed": false,
    "language": "python",
    "name": "print_chat_history",
    "resultHeight": 0
   },
   "outputs": [],
   "source": [
    "print (generation_chat_history)"
   ]
  },
  {
   "cell_type": "code",
   "execution_count": null,
   "id": "28f95f5d-c93d-4926-a29d-ef402182b913",
   "metadata": {
    "codeCollapsed": false,
    "collapsed": false,
    "language": "python",
    "name": "create_relfection_chat",
    "resultHeight": 0
   },
   "outputs": [],
   "source": [
    "reflection_chat_history = [\n",
    "    {\n",
    "        \"role\":\"system\",\n",
    "        \"content\" : \"You are Andrej Karpathy, an experienced computer scientist. You are tasked with generating critique and recommendations for the user code. If unit test are not, present suggest to create unit tests\"\n",
    "    }\n",
    "]"
   ]
  },
  {
   "cell_type": "code",
   "execution_count": null,
   "id": "1ecd2572-19b3-4831-9cf3-e3dcf1b351ad",
   "metadata": {
    "codeCollapsed": false,
    "collapsed": false,
    "language": "python",
    "name": "append_reflection_chat",
    "resultHeight": 0
   },
   "outputs": [],
   "source": [
    "reflection_chat_history.append (\n",
    "    {\n",
    "        \"role\":\"user\",\n",
    "        \"content\": mergesort_code\n",
    "    }\n",
    ")\n",
    "print (reflection_chat_history)"
   ]
  },
  {
   "cell_type": "code",
   "execution_count": null,
   "id": "b1fbb69f-bca6-4e78-9b29-378dbfc85d74",
   "metadata": {
    "codeCollapsed": false,
    "collapsed": false,
    "language": "python",
    "name": "generate_critique",
    "resultHeight": 0
   },
   "outputs": [],
   "source": [
    "critique = Complete ('llama3.1-405b', reflection_chat_history)"
   ]
  },
  {
   "cell_type": "code",
   "execution_count": null,
   "id": "51355e94-60dd-405a-b3e7-0ce8f03f5eaf",
   "metadata": {
    "collapsed": false,
    "language": "python",
    "name": "critique_results",
    "resultHeight": 0
   },
   "outputs": [],
   "source": [
    "st.markdown (critique)\n"
   ]
  },
  {
   "cell_type": "markdown",
   "id": "692cf3f4-beab-42ff-b325-6403b2da222f",
   "metadata": {
    "collapsed": false,
    "name": "incorporate_critique",
    "resultHeight": 153
   },
   "source": [
    "## Incorporate the critique\n",
    "The next step is to update the merge_code with the critique from our computer scientist.\n",
    "Then display the final implementaiton."
   ]
  },
  {
   "cell_type": "code",
   "execution_count": null,
   "id": "4e3de262-c234-4bc4-854c-9dbcb9e1d3e0",
   "metadata": {
    "collapsed": false,
    "language": "python",
    "name": "append_critique",
    "resultHeight": 0
   },
   "outputs": [],
   "source": [
    "generation_chat_history.append(\n",
    "    {\n",
    "        \"role\": \"user\",\n",
    "        \"content\": critique\n",
    "    }\n",
    ")"
   ]
  },
  {
   "cell_type": "code",
   "execution_count": null,
   "id": "6b28fa9b-c87d-45e6-8f3e-db798ac64d9b",
   "metadata": {
    "collapsed": false,
    "language": "python",
    "name": "complete_critique",
    "resultHeight": 0
   },
   "outputs": [],
   "source": [
    "essay = Complete ('llama3.1-405b', generation_chat_history)"
   ]
  },
  {
   "cell_type": "code",
   "execution_count": null,
   "id": "2b260ea3-cac6-4f0f-8a22-345b111aedb5",
   "metadata": {
    "collapsed": false,
    "language": "python",
    "name": "display_final_result",
    "resultHeight": 0
   },
   "outputs": [],
   "source": [
    "st.markdown(essay)"
   ]
  }
 ],
 "metadata": {
  "kernelspec": {
   "display_name": "Streamlit Notebook",
   "name": "streamlit"
  },
  "lastEditStatus": {
   "authorEmail": "sonny.rivera@tifinag.com",
   "authorId": "419397541133",
   "authorName": "SONNYRIVERA",
   "lastEditTime": 1737512270882,
   "notebookId": "azsbi25ifa7zpzj7bdse",
   "sessionId": "1234f1a0-f06e-48de-95e6-a9486de09078"
  }
 },
 "nbformat": 4,
 "nbformat_minor": 5
}
